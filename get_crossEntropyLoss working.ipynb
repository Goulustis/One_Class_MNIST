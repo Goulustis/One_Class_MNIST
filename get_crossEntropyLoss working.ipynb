{
 "cells": [
  {
   "cell_type": "code",
   "execution_count": 1,
   "metadata": {},
   "outputs": [],
   "source": [
    "import torch\n",
    "import torch.nn as nn\n",
    "import torch.nn.functional as F\n",
    "import torch.optim as optim\n",
    "from torchvision import datasets, transforms\n",
    "from torch.utils.data import DataLoader, Dataset\n",
    "\n",
    "from torchvision.utils import save_image\n",
    "\n",
    "import pandas as pd\n",
    "\n",
    "import random\n",
    "\n",
    "from tqdm.notebook import tqdm\n",
    "\n",
    "import matplotlib.pyplot as plt\n",
    "from matplotlib.pyplot import imshow\n",
    "from matplotlib import offsetbox\n",
    "\n",
    "from model_defs import *\n",
    "\n",
    "import numpy as np\n",
    "\n",
    "from itertools import chain\n",
    "\n",
    "from sklearn import (manifold, decomposition, ensemble,\n",
    "                     discriminant_analysis, random_projection, neighbors)"
   ]
  },
  {
   "cell_type": "code",
   "execution_count": 2,
   "metadata": {},
   "outputs": [],
   "source": [
    "emnist = datasets.EMNIST('./data', train = True, transform = transforms.ToTensor(), split = 'letters', download = True)\n",
    "emnist_test = datasets.EMNIST('./data', train = False, transform = transforms.ToTensor(), split = 'letters', download = True)\n",
    "\n",
    "mnist_train = datasets.MNIST('./data', train=True, download=True, transform=transforms.ToTensor())\n",
    "mnist_test = datasets.MNIST('./data', train=False, download=True, transform=transforms.ToTensor())"
   ]
  },
  {
   "cell_type": "code",
   "execution_count": 3,
   "metadata": {},
   "outputs": [
    {
     "name": "stdout",
     "output_type": "stream",
     "text": [
      "CPU times: user 44.3 s, sys: 449 ms, total: 44.8 s\n",
      "Wall time: 44.8 s\n"
     ]
    }
   ],
   "source": [
    "%%time\n",
    "df_train_ori = pd.DataFrame({'img': [e[0] for e in mnist_train], 'label': [e[1] for e in mnist_train]})\n",
    "df_train = df_train_ori[df_train_ori.label == 0].reset_index().drop('index',axis = 1)\n",
    "\n",
    "df_ref = pd.DataFrame({'img': [e[0] for e in emnist], 'label':[e[1] - 1 for e in emnist]})\n",
    "df_ref_use = df_ref.sample(df_train.shape[0]).reset_index().drop('index', axis = 1)\n",
    "\n",
    "df_ref_test = pd.DataFrame({'img': [e[0] for e in emnist_test], 'label':[e[1] - 1 for e in emnist_test]})\n",
    "# df_ref_test = df_ref_test.sample(df_train.shape[0]).reset_index().drop('index', axis = 1)"
   ]
  },
  {
   "cell_type": "code",
   "execution_count": 4,
   "metadata": {},
   "outputs": [],
   "source": [
    "class One_class_net(nn.Module):\n",
    "    def __init__(self, ae, num_classes):\n",
    "        super(One_class_net, self).__init__()\n",
    "        self.features = ae.encoder\n",
    "        self.conv_out = nn.Conv2d(16, num_classes, 2)\n",
    "        self.soft = nn.Softmax()\n",
    "    \n",
    "    def forward(self, x):\n",
    "        \n",
    "        num_sam = x.shape[0]\n",
    "        if len(x.shape) != 4:\n",
    "            x = x.view(-1,1,28,28)\n",
    "        \n",
    "        feat = self.features(x)\n",
    "        h = self.conv_out(feat)\n",
    "        output = h.view(num_sam,-1)#self.soft(h).view(num_sam,-1)#F.log_softmax(h).view(num_sam,-1)\n",
    "        \n",
    "        return output, feat"
   ]
  },
  {
   "cell_type": "code",
   "execution_count": 5,
   "metadata": {},
   "outputs": [],
   "source": [
    "class Char_img(Dataset):\n",
    "    def __init__(self, targ_data, ref_data):\n",
    "        self.targ_img = targ_data.img\n",
    "        self.targ_l = targ_data.label\n",
    "        \n",
    "        self.ref_img = ref_data.img\n",
    "        self.ref_l = ref_data.label\n",
    "    \n",
    "    def __len__(self):\n",
    "        return len(self.ref_l)#len(self.targ_l)\n",
    "    \n",
    "    def __getitem__(self, idx):\n",
    "        \n",
    "        n = min(len(self.targ_l)-1, idx)\n",
    "        \n",
    "        t_img = self.targ_img[n]\n",
    "        t_lab = self.targ_l[n] == 0\n",
    "        \n",
    "        r_img = self.ref_img[idx]\n",
    "        \n",
    "        \n",
    "        r_lab = torch.tensor(self.ref_l[idx])\n",
    "        \n",
    "        return t_img, t_lab, r_img, r_lab\n",
    "        \n",
    "        "
   ]
  },
  {
   "cell_type": "code",
   "execution_count": 6,
   "metadata": {},
   "outputs": [],
   "source": [
    "def test(model, test_loader):\n",
    "    model.eval()\n",
    "    test_loss = 0\n",
    "    correct = 0\n",
    "    with torch.no_grad():\n",
    "        for _,_, data, target in test_loader:\n",
    "            data, target = data.cuda(), target.cuda()\n",
    "            output, _ = model(data)\n",
    "            output = F.log_softmax(output, dim=1)\n",
    "            test_loss += F.nll_loss(output, target, reduction='sum').item()  # sum up batch loss\n",
    "            pred = output.argmax(dim=1, keepdim=True)  # get the index of the max log-probability\n",
    "            correct += pred.eq(target.view_as(pred)).sum().item()\n",
    "\n",
    "    test_loss /= len(test_loader.dataset)\n",
    "\n",
    "    print('\\nTest set: Average loss: {:.4f}, Accuracy: {}/{} ({:.0f}%)\\n'.format(\n",
    "        test_loss, correct, len(test_loader.dataset),\n",
    "        100. * correct / len(test_loader.dataset)))\n"
   ]
  },
  {
   "cell_type": "code",
   "execution_count": 7,
   "metadata": {},
   "outputs": [],
   "source": [
    "batch_size = 64\n",
    "learning_rate = 1e-3\n",
    "num_epoch = 100"
   ]
  },
  {
   "cell_type": "code",
   "execution_count": 8,
   "metadata": {},
   "outputs": [],
   "source": [
    "c_imgs = Char_img(df_train, df_ref)#Char_img(df_train, df_ref_use)\n",
    "training_loader = DataLoader(c_imgs, batch_size = batch_size, shuffle = True)"
   ]
  },
  {
   "cell_type": "code",
   "execution_count": 9,
   "metadata": {},
   "outputs": [],
   "source": [
    "c_imgs_test = Char_img(df_train, df_ref_test)\n",
    "testing_loader = DataLoader(c_imgs_test, batch_size = batch_size, shuffle = True)"
   ]
  },
  {
   "cell_type": "code",
   "execution_count": 10,
   "metadata": {},
   "outputs": [
    {
     "data": {
      "text/plain": [
       "<All keys matched successfully>"
      ]
     },
     "execution_count": 10,
     "metadata": {},
     "output_type": "execute_result"
    }
   ],
   "source": [
    "ae = autoencoder_v2()\n",
    "ae.load_state_dict(torch.load('./conv_autoencoder_v2.pth'))"
   ]
  },
  {
   "cell_type": "code",
   "execution_count": 11,
   "metadata": {},
   "outputs": [],
   "source": [
    "model = One_class_net(ae, df_ref.label.nunique())\n",
    "model.load_state_dict(torch.load('./rep_v1.pth'))\n",
    "model = model.cuda()\n",
    "\n",
    "criterion = nn.CrossEntropyLoss()\n",
    "optimizer = torch.optim.Adam(model.parameters(), lr=learning_rate, weight_decay=1e-5)"
   ]
  },
  {
   "cell_type": "code",
   "execution_count": 12,
   "metadata": {},
   "outputs": [
    {
     "data": {
      "application/vnd.jupyter.widget-view+json": {
       "model_id": "0fc5bec5167f423881a3ffe228ece06f",
       "version_major": 2,
       "version_minor": 0
      },
      "text/plain": [
       "HBox(children=(FloatProgress(value=0.0), HTML(value='')))"
      ]
     },
     "metadata": {},
     "output_type": "display_data"
    },
    {
     "name": "stdout",
     "output_type": "stream",
     "text": [
      "\n"
     ]
    }
   ],
   "source": [
    "losses = []\n",
    "for i in tqdm(range(num_epoch)): #num_epochs\n",
    "    for _,_, r_img, r_l in training_loader:\n",
    "        r_img = r_img.cuda()\n",
    "        r_l = r_l.cuda()\n",
    "\n",
    "        output, _ = model(r_img)\n",
    "        loss = criterion(output, r_l)\n",
    "\n",
    "        losses.append(loss.mean().item())\n",
    "\n",
    "        optimizer.zero_grad()\n",
    "        loss.backward()\n",
    "        optimizer.step()\n",
    "\n",
    "torch.save(model.state_dict(), './rep_v1.pth')"
   ]
  },
  {
   "cell_type": "code",
   "execution_count": 13,
   "metadata": {},
   "outputs": [
    {
     "data": {
      "text/plain": [
       "[<matplotlib.lines.Line2D at 0x7fdfc008d610>]"
      ]
     },
     "execution_count": 13,
     "metadata": {},
     "output_type": "execute_result"
    },
    {
     "data": {
      "image/png": "[encoded data removed]",
      "text/plain": [
       "<Figure size 432x288 with 1 Axes>"
      ]
     },
     "metadata": {
      "needs_background": "light"
     },
     "output_type": "display_data"
    }
   ],
   "source": [
    "plt.plot(losses)"
   ]
  },
  {
   "cell_type": "code",
   "execution_count": 16,
   "metadata": {},
   "outputs": [
    {
     "name": "stdout",
     "output_type": "stream",
     "text": [
      "\n",
      "Test set: Average loss: 0.3917, Accuracy: 18216/20800 (88%)\n",
      "\n"
     ]
    }
   ],
   "source": [
    "test(model, testing_loader)"
   ]
  },
  {
   "cell_type": "code",
   "execution_count": 12,
   "metadata": {},
   "outputs": [],
   "source": [
    "# get mnist zeros imbeddings\n",
    "loader = testing_loader\n",
    "\n",
    "zeros_embeddings = torch.zeros(1,64).cuda()\n",
    "\n",
    "with torch.no_grad():\n",
    "    for i, (z,_, _, _) in enumerate(loader):\n",
    "        z = z.cuda()\n",
    "        _, feat = model(z)\n",
    "        \n",
    "        zeros_embeddings = torch.cat((zeros_embeddings, feat.view(64,-1)), dim = 0)\n",
    "        if (i == 5):\n",
    "            break\n",
    "\n",
    "zeros_embeddings = zeros_embeddings[1:]\n",
    "zeros_embeddings = zeros_embeddings.cpu()"
   ]
  },
  {
   "cell_type": "code",
   "execution_count": 13,
   "metadata": {},
   "outputs": [],
   "source": [
    "# get other imbeddings\n",
    "loader = training_loader\n",
    "\n",
    "other_embeddings = torch.zeros(1,64).cuda()\n",
    "\n",
    "ys = []\n",
    "with torch.no_grad():\n",
    "    for i, (_,_, img, y) in enumerate(loader):\n",
    "        z = z.cuda()\n",
    "        _, feat = model(z)\n",
    "        \n",
    "        other_embeddings = torch.cat((other_embeddings, feat.view(64,-1)), dim = 0)\n",
    "        ys.append(y)\n",
    "        if (i == 8):\n",
    "            break\n",
    "\n",
    "other_embeddings = other_embeddings[1:]\n",
    "other_embeddings = other_embeddings.cpu()"
   ]
  },
  {
   "cell_type": "code",
   "execution_count": 14,
   "metadata": {},
   "outputs": [],
   "source": [
    "ys = torch.tensor(list(chain.from_iterable(ys)))\n",
    "\n",
    "ys = torch.cat((torch.zeros(zeros_embeddings.shape[0]).int(), ys.int()), dim = 0)"
   ]
  },
  {
   "cell_type": "code",
   "execution_count": 15,
   "metadata": {},
   "outputs": [],
   "source": [
    "x_embeddings = torch.cat((zeros_embeddings, other_embeddings), dim = 0)"
   ]
  },
  {
   "cell_type": "markdown",
   "metadata": {},
   "source": [
    "# observe embeddings"
   ]
  },
  {
   "cell_type": "code",
   "execution_count": 16,
   "metadata": {},
   "outputs": [],
   "source": [
    "def plot_embedding(X, y, title=None):\n",
    "    x_min, x_max = np.min(X, 0), np.max(X, 0)\n",
    "    X = (X - x_min) / (x_max - x_min)\n",
    "\n",
    "    plt.figure()\n",
    "    ax = plt.subplot(111)\n",
    "    for i in range(X.shape[0]):\n",
    "        plt.text(X[i, 0], X[i, 1], str(y[i].item()),\n",
    "                 color=plt.cm.Set1(y[i].item() / 10.),\n",
    "                 fontdict={'weight': 'bold', 'size': 9})\n",
    "\n",
    "#     if hasattr(offsetbox, 'AnnotationBbox'):\n",
    "#         # only print thumbnails with matplotlib > 1.0\n",
    "#         shown_images = np.array([[1., 1.]])  # just something big\n",
    "#         for i in range(X.shape[0]):\n",
    "#             dist = np.sum((X[i] - shown_images) ** 2, 1)\n",
    "#             if np.min(dist) < 4e-3:\n",
    "#                 # don't show points that are too close\n",
    "#                 continue\n",
    "#             shown_images = np.r_[shown_images, [X[i]]]\n",
    "#             imagebox = offsetbox.AnnotationBbox(\n",
    "#                 offsetbox.OffsetImage(digits.images[i], cmap=plt.cm.gray_r),\n",
    "#                 X[i])\n",
    "#             ax.add_artist(imagebox)\n",
    "    plt.xticks([]), plt.yticks([])\n",
    "    if title is not None:\n",
    "        plt.title(title)"
   ]
  },
  {
   "cell_type": "code",
   "execution_count": 17,
   "metadata": {},
   "outputs": [
    {
     "name": "stdout",
     "output_type": "stream",
     "text": [
      "Computing t-SNE embedding\n"
     ]
    },
    {
     "data": {
      "image/png": "[encoded data removed]",
      "text/plain": [
       "<Figure size 432x288 with 1 Axes>"
      ]
     },
     "metadata": {},
     "output_type": "display_data"
    }
   ],
   "source": [
    "# t-SNE embedding of the digits dataset\n",
    "print(\"Computing t-SNE embedding\")\n",
    "tsne = manifold.TSNE(n_components=2, init='pca', random_state=0)\n",
    "X_tsne = tsne.fit_transform(x_embeddings)\n",
    "\n",
    "plot_embedding(X_tsne, ys)"
   ]
  },
  {
   "cell_type": "code",
   "execution_count": 18,
   "metadata": {},
   "outputs": [],
   "source": [
    "from sklearn.neighbors import NearestNeighbors\n",
    "nbrs = NearestNeighbors(n_neighbors=1).fit(zeros_embeddings)"
   ]
  },
  {
   "cell_type": "code",
   "execution_count": null,
   "metadata": {},
   "outputs": [],
   "source": []
  }
 ],
 "metadata": {
  "kernelspec": {
   "display_name": "Python 3",
   "language": "python",
   "name": "python3"
  },
  "language_info": {
   "codemirror_mode": {
    "name": "ipython",
    "version": 3
   },
   "file_extension": ".py",
   "mimetype": "text/x-python",
   "name": "python",
   "nbconvert_exporter": "python",
   "pygments_lexer": "ipython3",
   "version": "3.7.6"
  }
 },
 "nbformat": 4,
 "nbformat_minor": 4
}
