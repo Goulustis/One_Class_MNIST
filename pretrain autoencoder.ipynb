{
 "cells": [
  {
   "cell_type": "code",
   "execution_count": 1,
   "metadata": {},
   "outputs": [],
   "source": [
    "import torch\n",
    "import torch.nn as nn\n",
    "import torch.nn.functional as F\n",
    "import torch.optim as optim\n",
    "from torchvision import datasets, transforms\n",
    "from torch.utils.data import DataLoader\n",
    "\n",
    "from torchvision.utils import save_image\n",
    "\n",
    "import pandas as pd\n",
    "\n",
    "import random\n",
    "\n",
    "from tqdm.notebook import tqdm\n",
    "\n",
    "import matplotlib.pyplot as plt\n",
    "from matplotlib.pyplot import imshow\n",
    "\n",
    "from model_defs import *"
   ]
  },
  {
   "cell_type": "code",
   "execution_count": 2,
   "metadata": {},
   "outputs": [],
   "source": [
    "def to_img(x):\n",
    "    x = 0.5 * (x + 1)\n",
    "    x = x.clamp(0, 1)\n",
    "    x = x.view(x.size(0), 1, 28, 28)\n",
    "    return x"
   ]
  },
  {
   "cell_type": "code",
   "execution_count": 3,
   "metadata": {},
   "outputs": [],
   "source": [
    "transform=transforms.Compose([\n",
    "        transforms.ToTensor(),\n",
    "        transforms.Normalize((0.1722,), (0.3242,))\n",
    "        ])"
   ]
  },
  {
   "cell_type": "code",
   "execution_count": 4,
   "metadata": {},
   "outputs": [],
   "source": [
    "# dataset1 = datasets.MNIST('./data', train=True, download=True,\n",
    "#                        transform=transform)\n",
    "# dataset2 = datasets.MNIST('./data', train=False, download = True,\n",
    "#                        transform=transform)"
   ]
  },
  {
   "cell_type": "code",
   "execution_count": 5,
   "metadata": {},
   "outputs": [],
   "source": [
    "# hyper param\n",
    "num_epochs = 60\n",
    "batch_size = 128\n",
    "learning_rate = 1e-3"
   ]
  },
  {
   "cell_type": "code",
   "execution_count": 6,
   "metadata": {},
   "outputs": [],
   "source": [
    "dataset = datasets.EMNIST('./data', train = True, transform = transforms.ToTensor(), split = 'letters', download = True)"
   ]
  },
  {
   "cell_type": "code",
   "execution_count": 7,
   "metadata": {},
   "outputs": [],
   "source": [
    "dataloader = DataLoader(dataset, batch_size = batch_size, shuffle = True)"
   ]
  },
  {
   "cell_type": "code",
   "execution_count": 8,
   "metadata": {},
   "outputs": [],
   "source": [
    "# model = autoencoder().cuda()\n",
    "model = autoencoder_v2().cuda()\n",
    "criterion = nn.MSELoss()\n",
    "optimizer = torch.optim.Adam(model.parameters(), lr=learning_rate,\n",
    "                             weight_decay=1e-5)"
   ]
  },
  {
   "cell_type": "code",
   "execution_count": 10,
   "metadata": {
    "scrolled": true
   },
   "outputs": [
    {
     "data": {
      "application/vnd.jupyter.widget-view+json": {
       "model_id": "07cc71b13d7946c79a67cd6be57f18be",
       "version_major": 2,
       "version_minor": 0
      },
      "text/plain": [
       "HBox(children=(FloatProgress(value=0.0, max=60.0), HTML(value='')))"
      ]
     },
     "metadata": {},
     "output_type": "display_data"
    },
    {
     "name": "stdout",
     "output_type": "stream",
     "text": [
      "epoch [1/60], loss:0.0181\n",
      "epoch [2/60], loss:0.0169\n",
      "epoch [3/60], loss:0.0168\n",
      "epoch [4/60], loss:0.0155\n",
      "epoch [5/60], loss:0.0138\n",
      "epoch [6/60], loss:0.0154\n",
      "epoch [7/60], loss:0.0149\n",
      "epoch [8/60], loss:0.0156\n",
      "epoch [9/60], loss:0.0142\n",
      "epoch [10/60], loss:0.0152\n",
      "epoch [11/60], loss:0.0129\n",
      "epoch [12/60], loss:0.0132\n",
      "epoch [13/60], loss:0.0137\n",
      "epoch [14/60], loss:0.0131\n",
      "epoch [15/60], loss:0.0134\n",
      "epoch [16/60], loss:0.0134\n",
      "epoch [17/60], loss:0.0131\n",
      "epoch [18/60], loss:0.0134\n",
      "epoch [19/60], loss:0.0135\n",
      "epoch [20/60], loss:0.0134\n",
      "epoch [21/60], loss:0.0122\n",
      "epoch [22/60], loss:0.0118\n",
      "epoch [23/60], loss:0.0134\n",
      "epoch [24/60], loss:0.0134\n",
      "epoch [25/60], loss:0.0127\n",
      "epoch [26/60], loss:0.0123\n",
      "epoch [27/60], loss:0.0121\n",
      "epoch [28/60], loss:0.0123\n",
      "epoch [29/60], loss:0.0120\n",
      "epoch [30/60], loss:0.0128\n",
      "epoch [31/60], loss:0.0126\n",
      "epoch [32/60], loss:0.0123\n",
      "epoch [33/60], loss:0.0126\n",
      "epoch [34/60], loss:0.0122\n",
      "epoch [35/60], loss:0.0137\n",
      "epoch [36/60], loss:0.0133\n",
      "epoch [37/60], loss:0.0116\n",
      "epoch [38/60], loss:0.0122\n",
      "epoch [39/60], loss:0.0120\n",
      "epoch [40/60], loss:0.0112\n",
      "epoch [41/60], loss:0.0126\n",
      "epoch [42/60], loss:0.0140\n",
      "epoch [43/60], loss:0.0122\n",
      "epoch [44/60], loss:0.0118\n",
      "epoch [45/60], loss:0.0120\n",
      "epoch [46/60], loss:0.0121\n",
      "epoch [47/60], loss:0.0106\n",
      "epoch [48/60], loss:0.0118\n",
      "epoch [49/60], loss:0.0120\n",
      "epoch [50/60], loss:0.0124\n",
      "epoch [51/60], loss:0.0117\n",
      "epoch [52/60], loss:0.0122\n",
      "epoch [53/60], loss:0.0116\n",
      "epoch [54/60], loss:0.0122\n",
      "epoch [55/60], loss:0.0124\n",
      "epoch [56/60], loss:0.0113\n",
      "epoch [57/60], loss:0.0133\n",
      "epoch [58/60], loss:0.0105\n",
      "epoch [59/60], loss:0.0123\n",
      "epoch [60/60], loss:0.0122\n",
      "\n"
     ]
    }
   ],
   "source": [
    "losses = []\n",
    "for epoch in tqdm(range(num_epochs)):\n",
    "    for data in dataloader:\n",
    "        img, l = data\n",
    "        img = img.cuda()\n",
    "        # ===================forward=====================\n",
    "        output = model(img)\n",
    "        loss = criterion(output, img)\n",
    "        # ===================backward====================\n",
    "        optimizer.zero_grad()\n",
    "        loss.backward()\n",
    "        optimizer.step()\n",
    "    # ===================log========================\n",
    "    print('epoch [{}/{}], loss:{:.4f}'\n",
    "          .format(epoch+1, num_epochs, loss.item()))\n",
    "    losses.append(loss.item())\n",
    "    \n",
    "    if epoch % 10 == 0:\n",
    "        pic = to_img(output.cpu().data)\n",
    "        save_image(pic, './dc_img/image_v2_{}.png'.format(epoch))\n",
    "    \n",
    "torch.save(model.state_dict(), './conv_autoencoder_v2.pth')"
   ]
  },
  {
   "cell_type": "code",
   "execution_count": 11,
   "metadata": {},
   "outputs": [
    {
     "data": {
      "text/plain": [
       "[<matplotlib.lines.Line2D at 0x7f76c8047c10>]"
      ]
     },
     "execution_count": 11,
     "metadata": {},
     "output_type": "execute_result"
    },
    {
     "data": {
      "image/png": "[encoded data removed]",
      "text/plain": [
       "<Figure size 432x288 with 1 Axes>"
      ]
     },
     "metadata": {
      "needs_background": "light"
     },
     "output_type": "display_data"
    }
   ],
   "source": [
    "plt.plot(losses)"
   ]
  },
  {
   "cell_type": "code",
   "execution_count": null,
   "metadata": {},
   "outputs": [],
   "source": [
    "def re_cons2(img):\n",
    "    re_img = encode(img.view(1,1,28,28))\n",
    "    re_img = re_img.cpu()\n",
    "    imshow(re_img.view(28,28).data.numpy())\n",
    "\n",
    "encode = autoencoder_v3()\n",
    "encode.load_state_dict(torch.load('./conv_autoencoder_v3.pth'))"
   ]
  },
  {
   "cell_type": "code",
   "execution_count": null,
   "metadata": {},
   "outputs": [],
   "source": [
    "def re_cons(img):\n",
    "    re_img = model(img.view(1,1,28,28).cuda())\n",
    "    re_img = re_img.cpu()\n",
    "    imshow(re_img.view(28,28).data.numpy())"
   ]
  },
  {
   "cell_type": "code",
   "execution_count": null,
   "metadata": {},
   "outputs": [],
   "source": [
    "mnist = datasets.MNIST('./data', train=True, download = True, transform = transforms.ToTensor())"
   ]
  },
  {
   "cell_type": "code",
   "execution_count": null,
   "metadata": {},
   "outputs": [],
   "source": [
    "n = random.randint(0,len(mnist))\n",
    "img = mnist[n][0]\n",
    "imshow(img.view(28,-1))\n",
    "print(n)"
   ]
  },
  {
   "cell_type": "code",
   "execution_count": null,
   "metadata": {},
   "outputs": [],
   "source": [
    "re_cons(img)"
   ]
  },
  {
   "cell_type": "code",
   "execution_count": null,
   "metadata": {},
   "outputs": [],
   "source": [
    "re_cons2(img)"
   ]
  }
 ],
 "metadata": {
  "kernelspec": {
   "display_name": "Python 3",
   "language": "python",
   "name": "python3"
  },
  "language_info": {
   "codemirror_mode": {
    "name": "ipython",
    "version": 3
   },
   "file_extension": ".py",
   "mimetype": "text/x-python",
   "name": "python",
   "nbconvert_exporter": "python",
   "pygments_lexer": "ipython3",
   "version": "3.7.6"
  }
 },
 "nbformat": 4,
 "nbformat_minor": 4
}
