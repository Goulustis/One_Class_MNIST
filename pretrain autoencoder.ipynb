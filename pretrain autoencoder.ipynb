{
 "cells": [
  {
   "cell_type": "code",
   "execution_count": 5,
   "metadata": {},
   "outputs": [],
   "source": [
    "import torch\n",
    "import torch.nn as nn\n",
    "import torch.nn.functional as F\n",
    "import torch.optim as optim\n",
    "from torchvision import datasets, transforms\n",
    "from torch.utils.data import DataLoader\n",
    "\n",
    "from torchvision.utils import save_image\n",
    "\n",
    "import pandas as pd\n",
    "\n",
    "import random\n",
    "\n",
    "from tqdm.notebook import tqdm\n",
    "\n",
    "import matplotlib.pyplot as plt\n",
    "from matplotlib.pyplot import imshow\n",
    "\n",
    "from model_defs import *"
   ]
  },
  {
   "cell_type": "code",
   "execution_count": 2,
   "metadata": {},
   "outputs": [],
   "source": [
    "def to_img(x):\n",
    "    x = 0.5 * (x + 1)\n",
    "    x = x.clamp(0, 1)\n",
    "    x = x.view(x.size(0), 1, 28, 28)\n",
    "    return x"
   ]
  },
  {
   "cell_type": "code",
   "execution_count": 6,
   "metadata": {},
   "outputs": [],
   "source": [
    "transform=transforms.Compose([\n",
    "        transforms.ToTensor(),\n",
    "        transforms.Normalize((0.1722,), (0.3242,))\n",
    "        ])"
   ]
  },
  {
   "cell_type": "code",
   "execution_count": 4,
   "metadata": {},
   "outputs": [],
   "source": [
    "# dataset1 = datasets.MNIST('./data', train=True, download=True,\n",
    "#                        transform=transform)\n",
    "# dataset2 = datasets.MNIST('./data', train=False, download = True,\n",
    "#                        transform=transform)"
   ]
  },
  {
   "cell_type": "code",
   "execution_count": 5,
   "metadata": {},
   "outputs": [],
   "source": [
    "# hyper param\n",
    "num_epochs = 40\n",
    "batch_size = 128\n",
    "learning_rate = 1e-3"
   ]
  },
  {
   "cell_type": "code",
   "execution_count": 6,
   "metadata": {},
   "outputs": [],
   "source": [
    "dataset = datasets.EMNIST('./data', train = True, transform = transforms.ToTensor(), split = 'letters', download = True)"
   ]
  },
  {
   "cell_type": "code",
   "execution_count": 7,
   "metadata": {},
   "outputs": [],
   "source": [
    "dataloader = DataLoader(dataset, batch_size = batch_size, shuffle = True)"
   ]
  },
  {
   "cell_type": "code",
   "execution_count": 8,
   "metadata": {},
   "outputs": [],
   "source": [
    "# model = autoencoder().cuda()\n",
    "model = autoencoder_v2().cuda()\n",
    "criterion = nn.MSELoss()\n",
    "optimizer = torch.optim.Adam(model.parameters(), lr=learning_rate,\n",
    "                             weight_decay=1e-5)"
   ]
  },
  {
   "cell_type": "code",
   "execution_count": 9,
   "metadata": {
    "scrolled": true
   },
   "outputs": [
    {
     "data": {
      "application/vnd.jupyter.widget-view+json": {
       "model_id": "d2f92725afb1474ea49e2043e544d795",
       "version_major": 2,
       "version_minor": 0
      },
      "text/plain": [
       "HBox(children=(FloatProgress(value=0.0, max=40.0), HTML(value='')))"
      ]
     },
     "metadata": {},
     "output_type": "display_data"
    },
    {
     "name": "stdout",
     "output_type": "stream",
     "text": [
      "epoch [1/40], loss:0.0250\n",
      "epoch [2/40], loss:0.0210\n",
      "epoch [3/40], loss:0.0183\n",
      "epoch [4/40], loss:0.0164\n",
      "epoch [5/40], loss:0.0151\n",
      "epoch [6/40], loss:0.0163\n",
      "epoch [7/40], loss:0.0164\n",
      "epoch [8/40], loss:0.0146\n",
      "epoch [9/40], loss:0.0142\n",
      "epoch [10/40], loss:0.0151\n",
      "epoch [11/40], loss:0.0148\n",
      "epoch [12/40], loss:0.0148\n",
      "epoch [13/40], loss:0.0135\n",
      "epoch [14/40], loss:0.0132\n",
      "epoch [15/40], loss:0.0134\n",
      "epoch [16/40], loss:0.0145\n",
      "epoch [17/40], loss:0.0135\n",
      "epoch [18/40], loss:0.0127\n",
      "epoch [19/40], loss:0.0135\n",
      "epoch [20/40], loss:0.0142\n",
      "epoch [21/40], loss:0.0123\n",
      "epoch [22/40], loss:0.0130\n",
      "epoch [23/40], loss:0.0131\n",
      "epoch [24/40], loss:0.0127\n",
      "epoch [25/40], loss:0.0138\n",
      "epoch [26/40], loss:0.0124\n",
      "epoch [27/40], loss:0.0131\n",
      "epoch [28/40], loss:0.0125\n",
      "epoch [29/40], loss:0.0118\n",
      "epoch [30/40], loss:0.0142\n",
      "epoch [31/40], loss:0.0132\n",
      "epoch [32/40], loss:0.0140\n",
      "epoch [33/40], loss:0.0130\n",
      "epoch [34/40], loss:0.0120\n",
      "epoch [35/40], loss:0.0132\n",
      "epoch [36/40], loss:0.0151\n",
      "epoch [37/40], loss:0.0122\n",
      "epoch [38/40], loss:0.0125\n",
      "epoch [39/40], loss:0.0124\n",
      "epoch [40/40], loss:0.0130\n",
      "\n"
     ]
    }
   ],
   "source": [
    "losses = []\n",
    "for epoch in tqdm(range(num_epochs)):\n",
    "    for data in dataloader:\n",
    "        img, l = data\n",
    "        img = img.cuda()\n",
    "        # ===================forward=====================\n",
    "        output = model(img)\n",
    "        loss = criterion(output, img)\n",
    "        # ===================backward====================\n",
    "        optimizer.zero_grad()\n",
    "        loss.backward()\n",
    "        optimizer.step()\n",
    "    # ===================log========================\n",
    "    print('epoch [{}/{}], loss:{:.4f}'\n",
    "          .format(epoch+1, num_epochs, loss.item()))\n",
    "    losses.append(loss.item())\n",
    "    \n",
    "    if epoch % 10 == 0:\n",
    "        pic = to_img(output.cpu().data)\n",
    "        save_image(pic, './dc_img/image_v2_{}.png'.format(epoch))\n",
    "    \n",
    "torch.save(model.state_dict(), './conv_autoencoder_v2.pth')"
   ]
  },
  {
   "cell_type": "code",
   "execution_count": 10,
   "metadata": {},
   "outputs": [
    {
     "data": {
      "text/plain": [
       "[<matplotlib.lines.Line2D at 0x7fde049d3ad0>]"
      ]
     },
     "execution_count": 10,
     "metadata": {},
     "output_type": "execute_result"
    },
    {
     "data": {
      "image/png": "[encoded data removed]",
      "text/plain": [
       "<Figure size 432x288 with 1 Axes>"
      ]
     },
     "metadata": {
      "needs_background": "light"
     },
     "output_type": "display_data"
    }
   ],
   "source": [
    "plt.plot(losses)"
   ]
  },
  {
   "cell_type": "code",
   "execution_count": 2,
   "metadata": {},
   "outputs": [
    {
     "data": {
      "text/plain": [
       "<All keys matched successfully>"
      ]
     },
     "execution_count": 2,
     "metadata": {},
     "output_type": "execute_result"
    }
   ],
   "source": [
    "def re_cons2(img):\n",
    "    re_img = encode(img.view(1,1,28,28))\n",
    "    re_img = re_img.cpu()\n",
    "    imshow(re_img.view(28,28).data.numpy())\n",
    "\n",
    "encode = autoencoder_v3()\n",
    "encode.load_state_dict(torch.load('./conv_autoencoder_v3.pth'))"
   ]
  },
  {
   "cell_type": "code",
   "execution_count": 3,
   "metadata": {},
   "outputs": [],
   "source": [
    "def re_cons(img):\n",
    "    re_img = model(img.view(1,1,28,28).cuda())\n",
    "    re_img = re_img.cpu()\n",
    "    imshow(re_img.view(28,28).data.numpy())"
   ]
  },
  {
   "cell_type": "code",
   "execution_count": 12,
   "metadata": {},
   "outputs": [],
   "source": [
    "mnist = datasets.MNIST('./data', train=True, download = True, transform = transforms.ToTensor())"
   ]
  },
  {
   "cell_type": "code",
   "execution_count": 13,
   "metadata": {},
   "outputs": [
    {
     "name": "stdout",
     "output_type": "stream",
     "text": [
      "12650\n"
     ]
    },
    {
     "data": {
      "image/png": "[encoded data removed]",
      "text/plain": [
       "<Figure size 432x288 with 1 Axes>"
      ]
     },
     "metadata": {
      "needs_background": "light"
     },
     "output_type": "display_data"
    }
   ],
   "source": [
    "n = random.randint(0,len(mnist))\n",
    "img = mnist[n][0]\n",
    "imshow(img.view(28,-1))\n",
    "print(n)"
   ]
  },
  {
   "cell_type": "code",
   "execution_count": 68,
   "metadata": {},
   "outputs": [
    {
     "data": {
      "image/png": "[encoded data removed]",
      "text/plain": [
       "<Figure size 432x288 with 1 Axes>"
      ]
     },
     "metadata": {
      "needs_background": "light"
     },
     "output_type": "display_data"
    }
   ],
   "source": [
    "re_cons(img)"
   ]
  },
  {
   "cell_type": "code",
   "execution_count": 14,
   "metadata": {},
   "outputs": [
    {
     "data": {
      "image/png": "[encoded data removed]",
      "text/plain": [
       "<Figure size 432x288 with 1 Axes>"
      ]
     },
     "metadata": {
      "needs_background": "light"
     },
     "output_type": "display_data"
    }
   ],
   "source": [
    "re_cons2(img)"
   ]
  }
 ],
 "metadata": {
  "kernelspec": {
   "display_name": "Python 3",
   "language": "python",
   "name": "python3"
  },
  "language_info": {
   "codemirror_mode": {
    "name": "ipython",
    "version": 3
   },
   "file_extension": ".py",
   "mimetype": "text/x-python",
   "name": "python",
   "nbconvert_exporter": "python",
   "pygments_lexer": "ipython3",
   "version": "3.7.6"
  }
 },
 "nbformat": 4,
 "nbformat_minor": 4
}
