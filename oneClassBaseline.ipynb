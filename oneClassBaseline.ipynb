{
 "cells": [
  {
   "cell_type": "code",
   "execution_count": 1,
   "metadata": {},
   "outputs": [],
   "source": [
    "import torch\n",
    "import torch.nn as nn\n",
    "import torch.nn.functional as F\n",
    "import torch.optim as optim\n",
    "from torchvision import datasets, transforms\n",
    "from torch.utils.data import DataLoader, Dataset\n",
    "\n",
    "from torchvision.utils import save_image\n",
    "\n",
    "import pandas as pd\n",
    "\n",
    "import random\n",
    "\n",
    "from tqdm.notebook import tqdm\n",
    "\n",
    "import matplotlib.pyplot as plt\n",
    "from matplotlib.pyplot import imshow\n",
    "from matplotlib import offsetbox\n",
    "\n",
    "from model_defs import *\n",
    "\n",
    "import numpy as np\n",
    "\n",
    "from itertools import chain\n",
    "\n",
    "from sklearn import (manifold, decomposition, ensemble,\n",
    "                     discriminant_analysis, random_projection, neighbors)\n",
    "from sklearn.svm import OneClassSVM\n",
    "\n",
    "from sklearn.metrics import confusion_matrix\n",
    "from sklearn.neighbors import LocalOutlierFactor\n",
    "from sklearn.metrics import confusion_matrix\n",
    "from sklearn import metrics\n",
    "from sklearn.metrics import f1_score"
   ]
  },
  {
   "cell_type": "code",
   "execution_count": 2,
   "metadata": {},
   "outputs": [],
   "source": [
    "emnist = datasets.EMNIST('./data', train = True, transform = transforms.ToTensor(), split = 'letters', download = True)\n",
    "emnist_test = datasets.EMNIST('./data', train = False, transform = transforms.ToTensor(), split = 'letters', download = True)\n",
    "\n",
    "mnist_train = datasets.MNIST('./data', train=True, download=True, transform=transforms.ToTensor())\n",
    "mnist_test = datasets.MNIST('./data', train=False, download=True, transform=transforms.ToTensor())"
   ]
  },
  {
   "cell_type": "code",
   "execution_count": 3,
   "metadata": {},
   "outputs": [
    {
     "name": "stdout",
     "output_type": "stream",
     "text": [
      "CPU times: user 45.7 s, sys: 458 ms, total: 46.2 s\n",
      "Wall time: 46.5 s\n"
     ]
    }
   ],
   "source": [
    "%%time\n",
    "df_train_ori = pd.DataFrame({'img': [e[0] for e in mnist_train], 'label': [e[1] for e in mnist_train]})\n",
    "df_train = df_train_ori[df_train_ori.label == 0].reset_index().drop('index',axis = 1)\n",
    "\n",
    "df_test = pd.DataFrame({'img' : [e[0] for e in mnist_test], 'label': [ e[1]  for e in mnist_test]})\n",
    "\n",
    "df_ref = pd.DataFrame({'img': [e[0] for e in emnist], 'label':[e[1] - 1 for e in emnist]})\n",
    "df_ref_use = df_ref.sample(df_train.shape[0]).reset_index().drop('index', axis = 1)\n",
    "\n",
    "df_ref_test = pd.DataFrame({'img': [e[0] for e in emnist_test], 'label':[e[1] - 1 for e in emnist_test]})\n",
    "# df_ref_test = df_ref_test.sample(df_train.shape[0]).reset_index().drop('index', axis = 1)"
   ]
  },
  {
   "cell_type": "code",
   "execution_count": 4,
   "metadata": {},
   "outputs": [],
   "source": [
    "def test(model, test_loader):\n",
    "    model.eval()\n",
    "    test_loss = 0\n",
    "    correct = 0\n",
    "    with torch.no_grad():\n",
    "        for _,_, data, target in test_loader:\n",
    "            data, target = data.cuda(), target.cuda()\n",
    "            output, _ = model(data)\n",
    "            output = F.log_softmax(output, dim=1)\n",
    "            test_loss += F.nll_loss(output, target, reduction='sum').item()  # sum up batch loss\n",
    "            pred = output.argmax(dim=1, keepdim=True)  # get the index of the max log-probability\n",
    "            correct += pred.eq(target.view_as(pred)).sum().item()\n",
    "\n",
    "    test_loss /= len(test_loader.dataset)\n",
    "\n",
    "    print('\\nTest set: Average loss: {:.4f}, Accuracy: {}/{} ({:.0f}%)\\n'.format(\n",
    "        test_loss, correct, len(test_loader.dataset),\n",
    "        100. * correct / len(test_loader.dataset)))\n"
   ]
  },
  {
   "cell_type": "code",
   "execution_count": 5,
   "metadata": {},
   "outputs": [],
   "source": [
    "batch_size = 64\n",
    "learning_rate = 1e-3\n",
    "num_epoch = 100"
   ]
  },
  {
   "cell_type": "code",
   "execution_count": 6,
   "metadata": {},
   "outputs": [],
   "source": [
    "c_imgs = Char_img(df_train, df_ref)\n",
    "training_loader = DataLoader(c_imgs, batch_size = batch_size, shuffle = False)"
   ]
  },
  {
   "cell_type": "code",
   "execution_count": 7,
   "metadata": {},
   "outputs": [],
   "source": [
    "c_imgs_test = Char_img(df_test, df_ref_test)\n",
    "testing_loader = DataLoader(c_imgs_test, batch_size = batch_size, shuffle = False)"
   ]
  },
  {
   "cell_type": "code",
   "execution_count": 8,
   "metadata": {},
   "outputs": [],
   "source": [
    "# model = One_class_net()\n",
    "# model.load_state_dict(torch.load('./rep_v1.pth'))\n",
    "model = autoencoder_v2()\n",
    "model.load_state_dict(torch.load('conv_autoencoder_v2.pth'))\n",
    "model = model.cuda()"
   ]
  },
  {
   "cell_type": "code",
   "execution_count": 9,
   "metadata": {},
   "outputs": [],
   "source": [
    "def get_embeddings(model, loader, mode = 0):\n",
    "    embeddings = torch.zeros(1,64).cuda()\n",
    "    \n",
    "    ys = []\n",
    "    \n",
    "    with torch.no_grad():\n",
    "        for i, (z,y, _, _) in enumerate(loader):\n",
    "            z = z.cuda()\n",
    "            if mode == 0:\n",
    "                _, feat = model(z)\n",
    "            elif mode == 1:\n",
    "                feat = model.encoder(z)\n",
    "\n",
    "            embeddings = torch.cat((embeddings, feat.view(len(y),-1)), dim = 0)\n",
    "            ys.append(y)\n",
    "            \n",
    "\n",
    "    embeddings = embeddings[1:]\n",
    "    embeddings = embeddings.cpu()\n",
    "    \n",
    "    ys = torch.tensor(list(chain.from_iterable(ys)))\n",
    "    return embeddings, ys"
   ]
  },
  {
   "cell_type": "code",
   "execution_count": 10,
   "metadata": {},
   "outputs": [
    {
     "name": "stdout",
     "output_type": "stream",
     "text": [
      "CPU times: user 2.36 s, sys: 108 ms, total: 2.47 s\n",
      "Wall time: 4.85 s\n"
     ]
    }
   ],
   "source": [
    "%%time\n",
    "training_embeddings, _ = get_embeddings(model, training_loader,1)\n",
    "testing_embeddings, test_l = get_embeddings(model, testing_loader,1)"
   ]
  },
  {
   "cell_type": "code",
   "execution_count": 11,
   "metadata": {},
   "outputs": [
    {
     "name": "stdout",
     "output_type": "stream",
     "text": [
      "CPU times: user 8.87 ms, sys: 32 µs, total: 8.9 ms\n",
      "Wall time: 8.06 ms\n"
     ]
    }
   ],
   "source": [
    "%%time\n",
    "# clf = OneClassSVM(gamma = 'auto').fit(training_embeddings)\n",
    "clf = LocalOutlierFactor(n_neighbors=5)\n",
    "y_pred = clf.fit(training_embeddings[:200])"
   ]
  },
  {
   "cell_type": "code",
   "execution_count": 12,
   "metadata": {},
   "outputs": [],
   "source": [
    "Z = clf._decision_function(testing_embeddings)"
   ]
  },
  {
   "cell_type": "code",
   "execution_count": 13,
   "metadata": {},
   "outputs": [],
   "source": [
    "y_true = test_l == 0\n",
    "fpr, tpr, _ = metrics.roc_curve(y_true, Z)"
   ]
  },
  {
   "cell_type": "code",
   "execution_count": 14,
   "metadata": {},
   "outputs": [],
   "source": [
    "auc = metrics.auc(fpr, tpr)"
   ]
  },
  {
   "cell_type": "code",
   "execution_count": 15,
   "metadata": {},
   "outputs": [
    {
     "data": {
      "image/png": "[encoded data removed]",
      "text/plain": [
       "<Figure size 432x288 with 1 Axes>"
      ]
     },
     "metadata": {
      "needs_background": "light"
     },
     "output_type": "display_data"
    }
   ],
   "source": [
    "plt.plot(fpr, tpr, label='DeepOneClassification(AUC = %.2f)'%auc)\n",
    "plt.legend()\n",
    "plt.title('ROC curve')\n",
    "plt.xlabel('False Positive Rate')\n",
    "plt.ylabel('True Positive Rate')\n",
    "plt.grid(True)\n",
    "plt.show()"
   ]
  },
  {
   "cell_type": "code",
   "execution_count": 16,
   "metadata": {},
   "outputs": [
    {
     "name": "stdout",
     "output_type": "stream",
     "text": [
      "CPU times: user 164 ms, sys: 0 ns, total: 164 ms\n",
      "Wall time: 163 ms\n"
     ]
    },
    {
     "data": {
      "text/plain": [
       "[<matplotlib.lines.Line2D at 0x7fc0fa014d50>]"
      ]
     },
     "execution_count": 16,
     "metadata": {},
     "output_type": "execute_result"
    },
    {
     "data": {
      "image/png": "[encoded data removed]",
      "text/plain": [
       "<Figure size 432x288 with 1 Axes>"
      ]
     },
     "metadata": {
      "needs_background": "light"
     },
     "output_type": "display_data"
    }
   ],
   "source": [
    "%%time\n",
    "f1s = []\n",
    "ax = np.linspace(min(Z),max(Z), 40)\n",
    "for thresh in ax:\n",
    "    f1s.append(f1_score(Z > thresh, test_l == 0))\n",
    "plt.plot(ax,f1s)"
   ]
  },
  {
   "cell_type": "code",
   "execution_count": 17,
   "metadata": {},
   "outputs": [
    {
     "name": "stdout",
     "output_type": "stream",
     "text": [
      "0.8552292632663576\n"
     ]
    }
   ],
   "source": [
    "print(max(f1s))"
   ]
  },
  {
   "cell_type": "code",
   "execution_count": 18,
   "metadata": {},
   "outputs": [
    {
     "data": {
      "text/plain": [
       "0.36384824857051834"
      ]
     },
     "execution_count": 18,
     "metadata": {},
     "output_type": "execute_result"
    }
   ],
   "source": [
    "ax[np.array(f1s).argmax()]"
   ]
  },
  {
   "cell_type": "code",
   "execution_count": 19,
   "metadata": {},
   "outputs": [
    {
     "data": {
      "text/plain": [
       "OneClassSVM(gamma='auto')"
      ]
     },
     "execution_count": 19,
     "metadata": {},
     "output_type": "execute_result"
    }
   ],
   "source": [
    "svm_emb = OneClassSVM(kernel=\"rbf\", gamma=\"auto\")\n",
    "svm_emb.fit(training_embeddings)"
   ]
  },
  {
   "cell_type": "code",
   "execution_count": 20,
   "metadata": {},
   "outputs": [
    {
     "data": {
      "text/plain": [
       "0.6603900470746469"
      ]
     },
     "execution_count": 20,
     "metadata": {},
     "output_type": "execute_result"
    }
   ],
   "source": [
    "f1_score(svm_emb.predict(testing_embeddings)>0, test_l == 0)"
   ]
  },
  {
   "cell_type": "code",
   "execution_count": 21,
   "metadata": {},
   "outputs": [],
   "source": [
    "Z_train = clf._decision_function(training_embeddings)"
   ]
  },
  {
   "cell_type": "code",
   "execution_count": 22,
   "metadata": {
    "scrolled": false
   },
   "outputs": [
    {
     "data": {
      "image/png": "[encoded data removed]",
      "text/plain": [
       "<Figure size 432x288 with 1 Axes>"
      ]
     },
     "metadata": {
      "needs_background": "light"
     },
     "output_type": "display_data"
    }
   ],
   "source": [
    "_ = plt.hist(Z_train, bins = 50)"
   ]
  },
  {
   "cell_type": "code",
   "execution_count": 23,
   "metadata": {},
   "outputs": [
    {
     "data": {
      "image/png": "[encoded data removed]",
      "text/plain": [
       "<Figure size 432x288 with 1 Axes>"
      ]
     },
     "metadata": {
      "needs_background": "light"
     },
     "output_type": "display_data"
    }
   ],
   "source": [
    "a,b,_ = plt.hist(Z, bins = 100)"
   ]
  },
  {
   "cell_type": "code",
   "execution_count": 24,
   "metadata": {},
   "outputs": [
    {
     "data": {
      "image/png": "[encoded data removed]",
      "text/plain": [
       "<Figure size 432x288 with 1 Axes>"
      ]
     },
     "metadata": {
      "needs_background": "light"
     },
     "output_type": "display_data"
    }
   ],
   "source": [
    "plt.hist(Z_train, bins = 60, alpha = 0.5)\n",
    "plt.hist(Z, bins = 60, alpha = 0.5)\n",
    "plt.show()"
   ]
  }
 ],
 "metadata": {
  "kernelspec": {
   "display_name": "Python 3",
   "language": "python",
   "name": "python3"
  },
  "language_info": {
   "codemirror_mode": {
    "name": "ipython",
    "version": 3
   },
   "file_extension": ".py",
   "mimetype": "text/x-python",
   "name": "python",
   "nbconvert_exporter": "python",
   "pygments_lexer": "ipython3",
   "version": "3.7.6"
  }
 },
 "nbformat": 4,
 "nbformat_minor": 4
}
