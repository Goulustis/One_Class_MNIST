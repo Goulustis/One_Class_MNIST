{
 "cells": [
  {
   "cell_type": "code",
   "execution_count": 1,
   "metadata": {},
   "outputs": [],
   "source": [
    "import torch\n",
    "import torch.nn as nn\n",
    "import torch.nn.functional as F\n",
    "import torch.optim as optim\n",
    "from torchvision import datasets, transforms\n",
    "from torch.utils.data import DataLoader, Dataset\n",
    "\n",
    "from torchvision.utils import save_image\n",
    "\n",
    "import pandas as pd\n",
    "\n",
    "import random\n",
    "\n",
    "from tqdm.notebook import tqdm\n",
    "\n",
    "import matplotlib.pyplot as plt\n",
    "from matplotlib.pyplot import imshow\n",
    "from matplotlib import offsetbox\n",
    "\n",
    "from model_defs import *\n",
    "\n",
    "import numpy as np\n",
    "\n",
    "from itertools import chain\n",
    "\n",
    "from sklearn import (manifold, decomposition, ensemble,\n",
    "                     discriminant_analysis, random_projection, neighbors)"
   ]
  },
  {
   "cell_type": "code",
   "execution_count": 2,
   "metadata": {},
   "outputs": [],
   "source": [
    "emnist = datasets.EMNIST('./data', train = True, transform = transforms.ToTensor(), split = 'letters', download = True)\n",
    "emnist_test = datasets.EMNIST('./data', train = False, transform = transforms.ToTensor(), split = 'letters', download = True)\n",
    "\n",
    "mnist_train = datasets.MNIST('./data', train=True, download=True, transform=transforms.ToTensor())\n",
    "mnist_test = datasets.MNIST('./data', train=False, download=True, transform=transforms.ToTensor())"
   ]
  },
  {
   "cell_type": "code",
   "execution_count": 3,
   "metadata": {},
   "outputs": [
    {
     "name": "stdout",
     "output_type": "stream",
     "text": [
      "CPU times: user 42.7 s, sys: 479 ms, total: 43.2 s\n",
      "Wall time: 43.2 s\n"
     ]
    }
   ],
   "source": [
    "%%time\n",
    "df_train_ori = pd.DataFrame({'img': [e[0] for e in mnist_train], 'label': [e[1] for e in mnist_train]})\n",
    "df_train = df_train_ori[df_train_ori.label == 0].reset_index().drop('index',axis = 1)\n",
    "\n",
    "df_ref = pd.DataFrame({'img': [e[0] for e in emnist], 'label':[e[1] - 1 for e in emnist]})\n",
    "df_ref_use = df_ref.sample(df_train.shape[0]).reset_index().drop('index', axis = 1)\n",
    "\n",
    "df_ref_test = pd.DataFrame({'img': [e[0] for e in emnist_test], 'label':[e[1] - 1 for e in emnist_test]})\n",
    "# df_ref_test = df_ref_test.sample(df_train.shape[0]).reset_index().drop('index', axis = 1)"
   ]
  },
  {
   "cell_type": "code",
   "execution_count": 4,
   "metadata": {},
   "outputs": [],
   "source": [
    "class Char_img(Dataset):\n",
    "    def __init__(self, targ_data, ref_data):\n",
    "        self.targ_img = targ_data.img\n",
    "        self.targ_l = targ_data.label\n",
    "        \n",
    "        self.ref_img = ref_data.img\n",
    "        self.ref_l = ref_data.label\n",
    "    \n",
    "    def __len__(self):\n",
    "        return len(self.targ_l)\n",
    "    \n",
    "    def __getitem__(self, idx):\n",
    "        \n",
    "        n = min(len(self.targ_l)-1, idx)\n",
    "        \n",
    "        t_img = self.targ_img[n]\n",
    "        t_lab = self.targ_l[n] == 0\n",
    "        \n",
    "        r_img = self.ref_img[idx]\n",
    "        \n",
    "        \n",
    "        r_lab = torch.tensor(self.ref_l[idx])\n",
    "        \n",
    "        return t_img, t_lab, r_img, r_lab\n",
    "        \n",
    "        "
   ]
  },
  {
   "cell_type": "code",
   "execution_count": 5,
   "metadata": {},
   "outputs": [],
   "source": [
    "# def compactness_loss(feat):\n",
    "#     h = feat.view(feat.shape[0],-1)\n",
    "#     m_ori = h.sum(axis = 0)\n",
    "\n",
    "#     ms_t = torch.stack([m_ori] * h.shape[0])\n",
    "\n",
    "#     ms = (ms_t - h)/(h.shape[0] - 1)\n",
    "#     z = h - ms\n",
    "#     lc = torch.matmul(z.T, z).sum()/(h.shape[0]*h.shape[1])\n",
    "    \n",
    "#     return lc\n",
    "\n",
    "def compactness_loss(feat):\n",
    "    h = feat.view(feat.shape[0],-1)\n",
    "    std = h - h.mean(axis = 0)\n",
    "    lc = h.shape[0]**2/(h.shape[0]*h.shape[1])*torch.sum(torch.matmul(std.T,std))/(h.shape[0]-1)**2\n",
    "    \n",
    "    return lc"
   ]
  },
  {
   "cell_type": "code",
   "execution_count": 6,
   "metadata": {},
   "outputs": [],
   "source": [
    "def test(model, test_loader):\n",
    "    model.eval()\n",
    "    test_loss = 0\n",
    "    correct = 0\n",
    "    with torch.no_grad():\n",
    "        for _,_, data, target in test_loader:\n",
    "            data, target = data.cuda(), target.cuda()\n",
    "            output, _ = model(data)\n",
    "            output = F.log_softmax(output, dim=1)\n",
    "            test_loss += F.nll_loss(output, target, reduction='sum').item()  # sum up batch loss\n",
    "            pred = output.argmax(dim=1, keepdim=True)  # get the index of the max log-probability\n",
    "            correct += pred.eq(target.view_as(pred)).sum().item()\n",
    "\n",
    "    test_loss /= len(test_loader.dataset)\n",
    "\n",
    "    print('\\nTest set: Average loss: {:.4f}, Accuracy: {}/{} ({:.0f}%)\\n'.format(\n",
    "        test_loss, correct, len(test_loader.dataset),\n",
    "        100. * correct / len(test_loader.dataset)))\n"
   ]
  },
  {
   "cell_type": "code",
   "execution_count": 7,
   "metadata": {},
   "outputs": [],
   "source": [
    "batch_size = 64\n",
    "learning_rate = 1e-3\n",
    "num_epoch = 100\n",
    "\n",
    "lam = 0.1"
   ]
  },
  {
   "cell_type": "code",
   "execution_count": 8,
   "metadata": {},
   "outputs": [],
   "source": [
    "c_imgs = Char_img(df_train, df_ref)#Char_img(df_train, df_ref_use)\n",
    "training_loader = DataLoader(c_imgs, batch_size = batch_size, shuffle = True)"
   ]
  },
  {
   "cell_type": "code",
   "execution_count": 9,
   "metadata": {},
   "outputs": [],
   "source": [
    "c_imgs_test = Char_img(df_train, df_ref_test)\n",
    "testing_loader = DataLoader(c_imgs_test, batch_size = batch_size, shuffle = True)"
   ]
  },
  {
   "cell_type": "code",
   "execution_count": 11,
   "metadata": {},
   "outputs": [],
   "source": [
    "model = One_class_net()\n",
    "model.load_state_dict(torch.load('./rep_pretrain_v1_.pth'))\n",
    "model = model.cuda()\n",
    "\n",
    "criterion = nn.CrossEntropyLoss()\n",
    "optimizer = torch.optim.Adam(model.parameters(), lr=learning_rate, weight_decay=1e-5)"
   ]
  },
  {
   "cell_type": "code",
   "execution_count": 12,
   "metadata": {},
   "outputs": [
    {
     "data": {
      "application/vnd.jupyter.widget-view+json": {
       "model_id": "d4db103e766840918106c4ff39b27684",
       "version_major": 2,
       "version_minor": 0
      },
      "text/plain": [
       "HBox(children=(FloatProgress(value=0.0), HTML(value='')))"
      ]
     },
     "metadata": {},
     "output_type": "display_data"
    },
    {
     "name": "stdout",
     "output_type": "stream",
     "text": [
      "\n"
     ]
    }
   ],
   "source": [
    "losses = []\n",
    "for i in tqdm(range(num_epoch)): #num_epochs\n",
    "    for t_img ,_, r_img, r_l in training_loader:\n",
    "        r_img = r_img.cuda()\n",
    "        r_l = r_l.cuda()\n",
    "        \n",
    "        t_img = t_img.cuda()\n",
    "\n",
    "        r_output, _ = model(r_img)\n",
    "        t_output, _ = model(t_img)\n",
    "        \n",
    "        loss = criterion(r_output, r_l) + lam*compactness_loss(t_output)\n",
    "\n",
    "        losses.append(loss.mean().item())\n",
    "\n",
    "        optimizer.zero_grad()\n",
    "        loss.backward()\n",
    "        optimizer.step()\n",
    "\n",
    "torch.save(model.state_dict(), './compact_v2.pth')"
   ]
  },
  {
   "cell_type": "code",
   "execution_count": 13,
   "metadata": {},
   "outputs": [
    {
     "data": {
      "text/plain": [
       "[<matplotlib.lines.Line2D at 0x7f68cd36a3d0>]"
      ]
     },
     "execution_count": 13,
     "metadata": {},
     "output_type": "execute_result"
    },
    {
     "data": {
      "image/png": "[encoded data removed]",
      "text/plain": [
       "<Figure size 432x288 with 1 Axes>"
      ]
     },
     "metadata": {
      "needs_background": "light"
     },
     "output_type": "display_data"
    }
   ],
   "source": [
    "plt.plot(losses)"
   ]
  },
  {
   "cell_type": "code",
   "execution_count": 14,
   "metadata": {},
   "outputs": [
    {
     "name": "stdout",
     "output_type": "stream",
     "text": [
      "\n",
      "Test set: Average loss: 1.2317, Accuracy: 4306/5923 (73%)\n",
      "\n"
     ]
    }
   ],
   "source": [
    "test(model, testing_loader)"
   ]
  },
  {
   "cell_type": "code",
   "execution_count": 16,
   "metadata": {},
   "outputs": [
    {
     "name": "stdout",
     "output_type": "stream",
     "text": [
      "torch.Size([2, 3])\n"
     ]
    }
   ],
   "source": [
    "t = torch.tensor([[1,2,3],[4,5,6]])\n",
    "print(t.shape)"
   ]
  },
  {
   "cell_type": "code",
   "execution_count": 17,
   "metadata": {},
   "outputs": [
    {
     "data": {
      "text/plain": [
       "torch.Size([3])"
      ]
     },
     "execution_count": 17,
     "metadata": {},
     "output_type": "execute_result"
    }
   ],
   "source": [
    "t.sum(axis = 0).shape"
   ]
  },
  {
   "cell_type": "code",
   "execution_count": null,
   "metadata": {},
   "outputs": [],
   "source": []
  }
 ],
 "metadata": {
  "kernelspec": {
   "display_name": "Python 3",
   "language": "python",
   "name": "python3"
  },
  "language_info": {
   "codemirror_mode": {
    "name": "ipython",
    "version": 3
   },
   "file_extension": ".py",
   "mimetype": "text/x-python",
   "name": "python",
   "nbconvert_exporter": "python",
   "pygments_lexer": "ipython3",
   "version": "3.7.6"
  }
 },
 "nbformat": 4,
 "nbformat_minor": 4
}
